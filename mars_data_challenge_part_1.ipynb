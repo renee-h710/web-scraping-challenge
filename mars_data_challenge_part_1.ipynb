{
 "cells": [
  {
   "cell_type": "code",
   "execution_count": 1,
   "metadata": {},
   "outputs": [],
   "source": [
    "# Scrape the Mars NewsLinks to an external site. \n",
    "# website by using Splinter and Beautiful Soup. \n",
    "from webdriver_manager.chrome import ChromeDriverManager\n",
    "from splinter import Browser\n",
    "from bs4 import BeautifulSoup as bs\n",
    "import requests\n"
   ]
  },
  {
   "cell_type": "code",
   "execution_count": 2,
   "metadata": {},
   "outputs": [
    {
     "name": "stderr",
     "output_type": "stream",
     "text": [
      "[WDM] - Downloading: 100%|██████████| 6.29M/6.29M [00:00<00:00, 60.1MB/s]\n"
     ]
    }
   ],
   "source": [
    "# Setup splinter\n",
    "executable_path = {'executable_path': ChromeDriverManager().install()}\n",
    "browser = Browser('chrome', **executable_path, headless=False)"
   ]
  },
  {
   "cell_type": "code",
   "execution_count": 3,
   "metadata": {},
   "outputs": [],
   "source": [
    "# URL of page to be scraped\n",
    "url = 'https://redplanetscience.com/'\n",
    "browser.visit(url)"
   ]
  },
  {
   "cell_type": "code",
   "execution_count": 8,
   "metadata": {},
   "outputs": [
    {
     "name": "stdout",
     "output_type": "stream",
     "text": [
      "Scraping Complete\n"
     ]
    }
   ],
   "source": [
    "html = browser.html\n",
    "soup = bs(html, 'html.parser')\n",
    "\n",
    "# Retrieve page with the requests module\n",
    "# response = requests.get(url)\n",
    "# soup = bs(response.text, 'html.parser')\n",
    "\n",
    "# scrape the title and preview text, or summary text,\n",
    "# of each article on the landing page.\n",
    "# results = soup.find_all('div', id_='news')\n",
    "\n",
    "title_list=[]\n",
    "titles = soup.find_all('div', class_='content_title')\n",
    "for title in titles:\n",
    "    name=title.text.strip()\n",
    "    title_list.append(name)\n",
    "\n",
    "preview_list=[]\n",
    "previews = soup.find_all('div', class_='article_teaser_body')\n",
    "for preview in previews:\n",
    "    teaser=preview.text.strip()\n",
    "    preview_list.append(teaser)\n",
    "# browser.links.find_by_partial_text('More').click()\n",
    "\n",
    "full_list= zip(title_list,preview_list)\n",
    "\n",
    "try:\n",
    "    for item in full_list:\n",
    "        browser.links.find_by_partial_text('More').click()\n",
    "except Exception as e :\n",
    "    print(\"Scraping Complete\")\n"
   ]
  },
  {
   "cell_type": "code",
   "execution_count": 9,
   "metadata": {},
   "outputs": [
    {
     "data": {
      "text/plain": [
       "[\"Common Questions about InSight's 'Mole'\",\n",
       " \"Meet the People Behind NASA's Perseverance Rover\",\n",
       " \"NASA's Curiosity Keeps Rolling As Team Operates Rover From Home\",\n",
       " \"Alabama High School Student Names NASA's Mars Helicopter\",\n",
       " \"NASA's Mars 2020 Comes Full Circle\",\n",
       " 'NASA Perseverance Mars Rover Scientists Train in the Nevada Desert',\n",
       " \"Air Deliveries Bring NASA's Perseverance Mars Rover Closer to Launch\",\n",
       " 'NASA to Reveal Name of Its Next Mars Rover',\n",
       " \"5 Hidden Gems Are Riding Aboard NASA's Perseverance Rover\",\n",
       " \"NASA's Perseverance Rover Bringing 3D-Printed Metal Parts to Mars\",\n",
       " \"Media Get a Close-Up of NASA's Mars 2020 Rover\",\n",
       " \"Mars InSight Lander to Push on Top of the 'Mole'\",\n",
       " 'Mars Is Getting a New Robotic Meteorologist',\n",
       " \"NASA's Curiosity Rover Finds an Ancient Oasis on Mars\",\n",
       " \"8 Martian Postcards to Celebrate Curiosity's Landing Anniversary\"]"
      ]
     },
     "execution_count": 9,
     "metadata": {},
     "output_type": "execute_result"
    }
   ],
   "source": [
    "title_list"
   ]
  },
  {
   "cell_type": "code",
   "execution_count": 22,
   "metadata": {},
   "outputs": [],
   "source": [
    "# # Store the scraping results in Python data structures as follows:\n",
    "jsonList= [] \n",
    "# Store each title-and-preview pair in a Python dictionary. \n",
    "for item in full_list:\n",
    "    # Give each dictionary two keys: title and preview\n",
    "    title=item[0]\n",
    "    preview = item[1]\n",
    "    data= {\n",
    "        'title': title,\n",
    "        'teaser':teaser\n",
    "    }\n",
    "    # Store all the dictionaries in a Python list.\n",
    "    jsonList.append(data)\n",
    "\n",
    "\n",
    "\n"
   ]
  },
  {
   "cell_type": "code",
   "execution_count": 30,
   "metadata": {},
   "outputs": [
    {
     "name": "stdout",
     "output_type": "stream",
     "text": [
      "[{'title': \"5 Hidden Gems Are Riding Aboard NASA's Perseverance Rover\", 'teaser': 'The NASA rover touched down eight years ago, on Aug. 5, 2012, and will soon be joined by a second rover, Perseverance.'}, {'title': \"NASA's Perseverance Rover Bringing 3D-Printed Metal Parts to Mars\", 'teaser': 'The NASA rover touched down eight years ago, on Aug. 5, 2012, and will soon be joined by a second rover, Perseverance.'}, {'title': \"Media Get a Close-Up of NASA's Mars 2020 Rover\", 'teaser': 'The NASA rover touched down eight years ago, on Aug. 5, 2012, and will soon be joined by a second rover, Perseverance.'}, {'title': \"Mars InSight Lander to Push on Top of the 'Mole'\", 'teaser': 'The NASA rover touched down eight years ago, on Aug. 5, 2012, and will soon be joined by a second rover, Perseverance.'}, {'title': 'Mars Is Getting a New Robotic Meteorologist', 'teaser': 'The NASA rover touched down eight years ago, on Aug. 5, 2012, and will soon be joined by a second rover, Perseverance.'}, {'title': \"NASA's Curiosity Rover Finds an Ancient Oasis on Mars\", 'teaser': 'The NASA rover touched down eight years ago, on Aug. 5, 2012, and will soon be joined by a second rover, Perseverance.'}, {'title': \"8 Martian Postcards to Celebrate Curiosity's Landing Anniversary\", 'teaser': 'The NASA rover touched down eight years ago, on Aug. 5, 2012, and will soon be joined by a second rover, Perseverance.'}]\n"
     ]
    }
   ],
   "source": [
    "# Print the list in your notebook.\n",
    "print(jsonList) \n",
    "# & export to json file or save to mongo db\n",
    "filepath = 'Resources/marsNews.json'\n",
    "import pandas as pd\n",
    "pdList=pd.DataFrame(jsonList)\n",
    "pdList.to_json(filepath)"
   ]
  },
  {
   "cell_type": "code",
   "execution_count": 31,
   "metadata": {},
   "outputs": [],
   "source": [
    "browser.quit()"
   ]
  }
 ],
 "metadata": {
  "kernelspec": {
   "display_name": "Python 3.9.12 ('base')",
   "language": "python",
   "name": "python3"
  },
  "language_info": {
   "codemirror_mode": {
    "name": "ipython",
    "version": 3
   },
   "file_extension": ".py",
   "mimetype": "text/x-python",
   "name": "python",
   "nbconvert_exporter": "python",
   "pygments_lexer": "ipython3",
   "version": "3.9.12"
  },
  "orig_nbformat": 4,
  "vscode": {
   "interpreter": {
    "hash": "b1e4904d6af615167a214265184edc2ca442b67449bfe6758846d75226cd49dd"
   }
  }
 },
 "nbformat": 4,
 "nbformat_minor": 2
}
